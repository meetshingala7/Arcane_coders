{
  "nbformat": 4,
  "nbformat_minor": 0,
  "metadata": {
    "colab": {
      "provenance": []
    },
    "kernelspec": {
      "name": "python3",
      "display_name": "Python 3"
    },
    "language_info": {
      "name": "python"
    }
  },
  "cells": [
    {
      "cell_type": "markdown",
      "source": [
        "# *APA FORMAT STYLE* \n",
        "\n",
        "*Author names format:*\n",
        "\n",
        "- Invert all individual authors’ names, providing the surname first, followed by a comma and the author’s initials.\n",
        "\n",
        "- Use a comma to separate an author’s initials from additional author names, even when there are only two authors.\n",
        "\n",
        "- Retain the author’s preferred capitalization.\n",
        "\n",
        "\n",
        "---\n",
        "*Date:*\n",
        "\n",
        "- year\n",
        "\n",
        "- year, Month\n",
        "\n",
        "- year, Month date\n",
        "\n",
        "---\n",
        "*Title*\n",
        "\n",
        "- Title should be in sentence case"
      ],
      "metadata": {
        "id": "Rpiq_I03dEix"
      }
    },
    {
      "cell_type": "code",
      "source": [
        "import re\n",
        "\n",
        "def is_apa_citation(citation):\n",
        "    # regex = r\"[A-Z]*[a-z]*.\\s[A-Z]*[a-z]*\\.?(?:\\s&\\s[A-Z]*[a-z]*\\.?)?\\s\\((\\d{4})\\)\\.\\s([^\\n]+)\\.*\\s([A-Z][a-z]*:?\\s?[A-Z]*[a-z]*?)\"\n",
        "    regex=r\"[A-Z]*[a-z]*.\\s[A-Z]*[a-z]*\\.?(?:\\s&\\s[A-Z]*[a-z]*\\.?)?\\s\\((\\d{4}|\\d{4},\\s*(January|February|March|April|May|June|July|August|September|October|November|December)\\s+\\d{1,2}|\\d{4},\\s*(January|February|March|April|May|June|July|August|September|October|November|December))\\)\\.\\s([^\\n]+)\\.*\\s([A-Z][a-z]*:?\\s?[A-Z]*[a-z]*?|\\s*(http))\"\n",
        "    match = re.search(regex, citation)\n",
        "    return match is not None\n",
        "\n",
        "# Example usage\n",
        "citation1 = \"Derwing, T. M., Rossiter, M. J., & Munro, M. J. (2002). Teaching native speakers to listen to foreign-accented speech. Journal of Multilingual and Multicultural Development, 23(4), 245-259.\"\n",
        "print(is_apa_citation(citation1))  # Output: True\n",
        "\n",
        "citation2 = \"Smith, J., Jones, & Davis, B. (2018). An introduction to data science. Springer.\"\n",
        "print(is_apa_citation(citation2))  # Output: True\n",
        "\n"
      ],
      "metadata": {
        "colab": {
          "base_uri": "https://localhost:8080/"
        },
        "id": "MUyAtQQEPkb1",
        "outputId": "99e6608b-0d10-458e-de7c-df23978f8081"
      },
      "execution_count": null,
      "outputs": [
        {
          "output_type": "stream",
          "name": "stdout",
          "text": [
            "True\n",
            "True\n"
          ]
        }
      ]
    },
    {
      "cell_type": "code",
      "source": [
        "citation4=\"Smith, John. The Power of Now. New World Library, 1999.\" #MLA styles\n",
        "print(is_apa_citation(citation4))\n",
        "\n",
        "citation5=\"Brown, Linda. 'The Importance of Sleep.' Journal of Psychology, vol. 23, no. 4, 2016, pp. 123-135.\" #MLA styles\n",
        "print(is_apa_citation(citation5))"
      ],
      "metadata": {
        "colab": {
          "base_uri": "https://localhost:8080/"
        },
        "id": "0Vu21mblkxAh",
        "outputId": "a48d7eb9-1f17-4776-c255-5c0973388fa2"
      },
      "execution_count": null,
      "outputs": [
        {
          "output_type": "stream",
          "name": "stdout",
          "text": [
            "False\n",
            "False\n"
          ]
        }
      ]
    },
    {
      "cell_type": "markdown",
      "source": [
        "Book with one author"
      ],
      "metadata": {
        "id": "z3OfHexBfMcP"
      }
    },
    {
      "cell_type": "code",
      "source": [
        "citation3 = \"Johnson, M. (2010). The nature of conscious perception. Philosophical Transactions of the Royal Society B: Biological Sciences, 365, 3541-3548. https://doi.org/10.1098/rstb.2010.0276\"\n",
        "print(is_apa_citation(citation3))"
      ],
      "metadata": {
        "colab": {
          "base_uri": "https://localhost:8080/"
        },
        "id": "6axJs6YDfIRn",
        "outputId": "ea146f5f-71f0-4add-c7c3-da353baf9630"
      },
      "execution_count": null,
      "outputs": [
        {
          "output_type": "stream",
          "name": "stdout",
          "text": [
            "True\n"
          ]
        }
      ]
    },
    {
      "cell_type": "markdown",
      "source": [
        "Book with two authors:\n",
        "Last name, First initial., & Last name, First initial. (Publication year). Title of book. Publisher."
      ],
      "metadata": {
        "id": "5FDO7XhSaiem"
      }
    },
    {
      "cell_type": "code",
      "source": [
        "citation7=\" Johnson, S., & Smith, D. (2010). The Art of Communicating. HarperCollins.\"\n",
        "print(is_apa_citation(citation7))"
      ],
      "metadata": {
        "colab": {
          "base_uri": "https://localhost:8080/"
        },
        "id": "GPDj8u3nZXSU",
        "outputId": "b8a043c8-8b8c-49f6-9a69-4a705e0dbe86"
      },
      "execution_count": null,
      "outputs": [
        {
          "output_type": "stream",
          "name": "stdout",
          "text": [
            "True\n"
          ]
        }
      ]
    },
    {
      "cell_type": "markdown",
      "source": [
        "Article from a print journal:\n",
        "Last name, First initial. (Publication year). Title of article. Title of Journal, volume number(issue number), page numbers."
      ],
      "metadata": {
        "id": "ZCIpE6Kma0rH"
      }
    },
    {
      "cell_type": "code",
      "source": [
        "citation8=\"Brown, L. (2016). The Importance of Sleep. Journal of Psychology, 23(4), 123-135.\"\n",
        "print(is_apa_citation(citation8))"
      ],
      "metadata": {
        "colab": {
          "base_uri": "https://localhost:8080/"
        },
        "id": "VqFNXJnJZYZf",
        "outputId": "9a8d4b18-4d3a-477f-9654-f735988e13be"
      },
      "execution_count": null,
      "outputs": [
        {
          "output_type": "stream",
          "name": "stdout",
          "text": [
            "True\n"
          ]
        }
      ]
    },
    {
      "cell_type": "markdown",
      "source": [
        "Article from an online database:Last name, First initial. (Publication year). Title of article. Title of Journal, volume number(issue number), page numbers. DOI or URL"
      ],
      "metadata": {
        "id": "Gxjex9sXa87W"
      }
    },
    {
      "cell_type": "code",
      "source": [
        "citation9=\"Anderson, M. (2020). The Effects of Technology on Education. Educational Technology, 12(2), 45-55. doi:10.1002/edtech.123456\"\n",
        "print(is_apa_citation(citation9))"
      ],
      "metadata": {
        "colab": {
          "base_uri": "https://localhost:8080/"
        },
        "id": "-RwS9IFnZqUO",
        "outputId": "01fec620-2b3b-4020-ed91-d205d98e4e1e"
      },
      "execution_count": null,
      "outputs": [
        {
          "output_type": "stream",
          "name": "stdout",
          "text": [
            "True\n"
          ]
        }
      ]
    },
    {
      "cell_type": "code",
      "source": [
        "citation10=\"All Things N. (2006). Retrieved from http://www.psu.edu/ur/about/nittanymascot.html\"\n",
        "print(is_apa_citation(citation10))"
      ],
      "metadata": {
        "colab": {
          "base_uri": "https://localhost:8080/"
        },
        "id": "jLD1DD0sZqsG",
        "outputId": "5e4d3517-d599-4031-bfd0-6535f6e47486"
      },
      "execution_count": null,
      "outputs": [
        {
          "output_type": "stream",
          "name": "stdout",
          "text": [
            "True\n"
          ]
        }
      ]
    },
    {
      "cell_type": "code",
      "source": [
        "\n",
        "text=\"Smith, A. P., Kendrick, A. M., & Maben, A. L. (1992). Effects of breakfast and caffeine on performance and mood in the late morning and after lunch. Neuropsychobiology, 26, 198–204\"\n",
        "regex=r\"[A-Z]*[a-z]*.\\s[A-Z]*[a-z]*\\.?(?:\\s&\\s[A-Z]*[a-z]*\\.?)?\\s\\((\\d{4}|\\d{4},\\s*(January|February|March|April|May|June|July|August|September|October|November|December)\\s+\\d{1,2}|\\d{4},\\s*(January|February|March|April|May|June|July|August|September|October|November|December))\\)\\.\\s([^\\n]+)\\.*\\s([A-Z][a-z]*:?\\s?[A-Z]*[a-z]*?|\\s*(http))\"\n",
        "\n",
        "# matches = re.findall(regex, text)\n",
        "print(is_apa_citation(text))\n",
        "# for match in matches:\n",
        "#   print(match)\n",
        "#   print(is_apa_citation(match))\n"
      ],
      "metadata": {
        "colab": {
          "base_uri": "https://localhost:8080/"
        },
        "id": "fG3IA5DslVBx",
        "outputId": "315167b0-03d7-444c-84c4-73593962ebc7"
      },
      "execution_count": null,
      "outputs": [
        {
          "output_type": "stream",
          "name": "stdout",
          "text": [
            "True\n"
          ]
        }
      ]
    },
    {
      "cell_type": "markdown",
      "source": [
        "# **MLA FORMAT STYLE**"
      ],
      "metadata": {
        "id": "H0uReABz219R"
      }
    }
  ]
}